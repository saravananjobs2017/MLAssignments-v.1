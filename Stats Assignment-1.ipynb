{
 "cells": [
  {
   "cell_type": "code",
   "execution_count": 12,
   "metadata": {},
   "outputs": [
    {
     "name": "stdout",
     "output_type": "stream",
     "text": [
      "The standard Deviation is 0    335.927406\n",
      "dtype: float64\n"
     ]
    }
   ],
   "source": [
    "#Problem Statement 1:\n",
    "#You survey households in your area to find the average rent they are paying. Find the\n",
    "#standard deviation from the following data:\n",
    "#$1550, $1700, $900, $850, $1000, $950\n",
    "import pandas as pd\n",
    "import numpy as np\n",
    "data=pd.DataFrame([1550,1700,900,850,1000,950])\n",
    "print('The standard Deviation is',np.std(data))"
   ]
  },
  {
   "cell_type": "code",
   "execution_count": 21,
   "metadata": {},
   "outputs": [
    {
     "name": "stdout",
     "output_type": "stream",
     "text": [
      "the variance of the data is 5183.25\n"
     ]
    }
   ],
   "source": [
    "#Problem Statement 2:\n",
    "#Find the variance for the following set of data representing trees in California (heights in feet):\n",
    "#3, 21, 98, 203, 17, 9\n",
    "\n",
    "data1=[3,21,98,203,17,9]\n",
    "print('the variance of the data is',np.var(data1))"
   ]
  },
  {
   "cell_type": "code",
   "execution_count": 47,
   "metadata": {},
   "outputs": [
    {
     "name": "stdout",
     "output_type": "stream",
     "text": [
      "Expected no of subjects a student fail in class 0.33\n"
     ]
    }
   ],
   "source": [
    "#Problem Statement 3:\n",
    "#In a class on 100 students, 80 students passed in all subjects, 10 failed in one subject, 7\n",
    "#failed in two subjects and 3 failed in three subjects. Find the probability distribution of\n",
    "#the variable for number of subjects a student from the given class has failed in.\n",
    "\n",
    "import math\n",
    "total_students=100\n",
    "#let assume x is subject \n",
    "x_0=80/100\n",
    "x_1=10/100\n",
    "x_2=7/100\n",
    "x_3=3/100\n",
    "#print(x_0,x_1,x_2,x_3)\n",
    "#so expected no of subjects a student fail in class.\n",
    "result=0*x_0+1*x_1+2*x_2+3*x_3\n",
    "print('Expected no of subjects a student fail in class', result)"
   ]
  }
 ],
 "metadata": {
  "kernelspec": {
   "display_name": "Python 3",
   "language": "python",
   "name": "python3"
  },
  "language_info": {
   "codemirror_mode": {
    "name": "ipython",
    "version": 3
   },
   "file_extension": ".py",
   "mimetype": "text/x-python",
   "name": "python",
   "nbconvert_exporter": "python",
   "pygments_lexer": "ipython3",
   "version": "3.7.4"
  }
 },
 "nbformat": 4,
 "nbformat_minor": 2
}
