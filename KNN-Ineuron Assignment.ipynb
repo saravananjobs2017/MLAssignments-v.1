{
 "cells": [
  {
   "cell_type": "code",
   "execution_count": 118,
   "metadata": {},
   "outputs": [],
   "source": [
    "#import Libraries\n",
    "import pandas as pd\n",
    "from sklearn.preprocessing import LabelEncoder\n",
    "from sklearn.model_selection import train_test_split\n",
    "from sklearn.neighbors import KNeighborsRegressor\n",
    "from sklearn.metrics import mean_squared_error,r2_score\n",
    "from math import sqrt\n",
    "import matplotlib.pyplot as plt\n"
   ]
  },
  {
   "cell_type": "code",
   "execution_count": 4,
   "metadata": {},
   "outputs": [
    {
     "name": "stdout",
     "output_type": "stream",
     "text": [
      "D:\\saravanan\\Lockdown ML projects\\project-4\\KNN\\data set\n"
     ]
    }
   ],
   "source": [
    "cd D:\\saravanan\\Lockdown ML projects\\project-4\\KNN\\data set"
   ]
  },
  {
   "cell_type": "code",
   "execution_count": 6,
   "metadata": {},
   "outputs": [],
   "source": [
    "#reading the File\n",
    "data=pd.read_csv('nba_2013.csv')"
   ]
  },
  {
   "cell_type": "code",
   "execution_count": 7,
   "metadata": {},
   "outputs": [
    {
     "data": {
      "text/plain": [
       "(481, 31)"
      ]
     },
     "execution_count": 7,
     "metadata": {},
     "output_type": "execute_result"
    }
   ],
   "source": [
    "#knowing the shape of the data\n",
    "data.shape"
   ]
  },
  {
   "cell_type": "code",
   "execution_count": 9,
   "metadata": {
    "scrolled": true
   },
   "outputs": [],
   "source": [
    "#filtering out required columns in the data\n",
    "df=data[['player', 'pos', 'age', 'bref_team_id', 'g', 'gs', 'pf','pts']]"
   ]
  },
  {
   "cell_type": "code",
   "execution_count": 10,
   "metadata": {},
   "outputs": [
    {
     "data": {
      "text/plain": [
       "array(['SF', 'C', 'PF', 'SG', 'PG', 'G', 'F'], dtype=object)"
      ]
     },
     "execution_count": 10,
     "metadata": {},
     "output_type": "execute_result"
    }
   ],
   "source": [
    "#check out the uniqueness of the values in the column.\n",
    "#df['pos'].unique()\n",
    "\n",
    "df['bref_team_id'].unique()"
   ]
  },
  {
   "cell_type": "code",
   "execution_count": 14,
   "metadata": {},
   "outputs": [
    {
     "name": "stderr",
     "output_type": "stream",
     "text": [
      "d:\\Profiles\\sdhanapal\\AppData\\Local\\Continuum\\anaconda3\\lib\\site-packages\\ipykernel_launcher.py:1: SettingWithCopyWarning: \n",
      "A value is trying to be set on a copy of a slice from a DataFrame.\n",
      "Try using .loc[row_indexer,col_indexer] = value instead\n",
      "\n",
      "See the caveats in the documentation: http://pandas.pydata.org/pandas-docs/stable/user_guide/indexing.html#returning-a-view-versus-a-copy\n",
      "  \"\"\"Entry point for launching an IPython kernel.\n",
      "d:\\Profiles\\sdhanapal\\AppData\\Local\\Continuum\\anaconda3\\lib\\site-packages\\ipykernel_launcher.py:2: SettingWithCopyWarning: \n",
      "A value is trying to be set on a copy of a slice from a DataFrame.\n",
      "Try using .loc[row_indexer,col_indexer] = value instead\n",
      "\n",
      "See the caveats in the documentation: http://pandas.pydata.org/pandas-docs/stable/user_guide/indexing.html#returning-a-view-versus-a-copy\n",
      "  \n"
     ]
    }
   ],
   "source": [
    "#Using LabelEncoder changing the catagorical values into numerical\n",
    "df['pos']=LabelEncoder().fit(df['pos']).transform(df['pos'])\n",
    "df['bref_team_id']=LabelEncoder().fit(df['bref_team_id']).transform(df['bref_team_id'])\n",
    "df[['player']]=LabelEncoder().fit(df['player']).transform(df['player'])\n"
   ]
  },
  {
   "cell_type": "code",
   "execution_count": 17,
   "metadata": {},
   "outputs": [
    {
     "name": "stderr",
     "output_type": "stream",
     "text": [
      "d:\\Profiles\\sdhanapal\\AppData\\Local\\Continuum\\anaconda3\\lib\\site-packages\\pandas\\core\\frame.py:4223: SettingWithCopyWarning: \n",
      "A value is trying to be set on a copy of a slice from a DataFrame\n",
      "\n",
      "See the caveats in the documentation: http://pandas.pydata.org/pandas-docs/stable/user_guide/indexing.html#returning-a-view-versus-a-copy\n",
      "  return super().rename(**kwargs)\n"
     ]
    }
   ],
   "source": [
    "#rename the column names into standaredize names \n",
    "df.rename(columns={'bref_team_id':'teamid','g':'matchesplayed','gs':'gamesstarted','pts':'points','player':'player_id'},inplace=True)"
   ]
  },
  {
   "cell_type": "code",
   "execution_count": 58,
   "metadata": {},
   "outputs": [],
   "source": [
    "#Splitting the data\n",
    "#here not used earlier method since X,Y values are not required\n",
    "train , test = train_test_split(df, test_size = 0.3)\n",
    "\n",
    "x_train = train.drop('points', axis=1)\n",
    "y_train = train['points']\n",
    "\n",
    "x_test = test.drop('points', axis = 1)\n",
    "y_test = test['points']"
   ]
  },
  {
   "cell_type": "code",
   "execution_count": 111,
   "metadata": {},
   "outputs": [
    {
     "name": "stdout",
     "output_type": "stream",
     "text": [
      "RMSE value for k=  1 is: [396.7802744679939]\n",
      "RMSE value for k=  2 is: [396.7802744679939, 323.9880744931719]\n",
      "RMSE value for k=  3 is: [396.7802744679939, 323.9880744931719, 295.16259951636266]\n",
      "RMSE value for k=  4 is: [396.7802744679939, 323.9880744931719, 295.16259951636266, 279.55499659403273]\n",
      "RMSE value for k=  5 is: [396.7802744679939, 323.9880744931719, 295.16259951636266, 279.55499659403273, 268.1443646170138]\n",
      "RMSE value for k=  6 is: [396.7802744679939, 323.9880744931719, 295.16259951636266, 279.55499659403273, 268.1443646170138, 263.8700829757992]\n",
      "RMSE value for k=  7 is: [396.7802744679939, 323.9880744931719, 295.16259951636266, 279.55499659403273, 268.1443646170138, 263.8700829757992, 255.4102565589806]\n",
      "RMSE value for k=  8 is: [396.7802744679939, 323.9880744931719, 295.16259951636266, 279.55499659403273, 268.1443646170138, 263.8700829757992, 255.4102565589806, 247.47966021438526]\n",
      "RMSE value for k=  9 is: [396.7802744679939, 323.9880744931719, 295.16259951636266, 279.55499659403273, 268.1443646170138, 263.8700829757992, 255.4102565589806, 247.47966021438526, 248.63576140128097]\n",
      "RMSE value for k=  10 is: [396.7802744679939, 323.9880744931719, 295.16259951636266, 279.55499659403273, 268.1443646170138, 263.8700829757992, 255.4102565589806, 247.47966021438526, 248.63576140128097, 243.01310948035365]\n",
      "RMSE value for k=  11 is: [396.7802744679939, 323.9880744931719, 295.16259951636266, 279.55499659403273, 268.1443646170138, 263.8700829757992, 255.4102565589806, 247.47966021438526, 248.63576140128097, 243.01310948035365, 241.98137480171113]\n",
      "RMSE value for k=  12 is: [396.7802744679939, 323.9880744931719, 295.16259951636266, 279.55499659403273, 268.1443646170138, 263.8700829757992, 255.4102565589806, 247.47966021438526, 248.63576140128097, 243.01310948035365, 241.98137480171113, 244.99983374378596]\n",
      "RMSE value for k=  13 is: [396.7802744679939, 323.9880744931719, 295.16259951636266, 279.55499659403273, 268.1443646170138, 263.8700829757992, 255.4102565589806, 247.47966021438526, 248.63576140128097, 243.01310948035365, 241.98137480171113, 244.99983374378596, 248.80255088046752]\n",
      "RMSE value for k=  14 is: [396.7802744679939, 323.9880744931719, 295.16259951636266, 279.55499659403273, 268.1443646170138, 263.8700829757992, 255.4102565589806, 247.47966021438526, 248.63576140128097, 243.01310948035365, 241.98137480171113, 244.99983374378596, 248.80255088046752, 250.88274286714756]\n",
      "RMSE value for k=  15 is: [396.7802744679939, 323.9880744931719, 295.16259951636266, 279.55499659403273, 268.1443646170138, 263.8700829757992, 255.4102565589806, 247.47966021438526, 248.63576140128097, 243.01310948035365, 241.98137480171113, 244.99983374378596, 248.80255088046752, 250.88274286714756, 252.1467687905087]\n",
      "RMSE value for k=  16 is: [396.7802744679939, 323.9880744931719, 295.16259951636266, 279.55499659403273, 268.1443646170138, 263.8700829757992, 255.4102565589806, 247.47966021438526, 248.63576140128097, 243.01310948035365, 241.98137480171113, 244.99983374378596, 248.80255088046752, 250.88274286714756, 252.1467687905087, 255.05070510924713]\n",
      "RMSE value for k=  17 is: [396.7802744679939, 323.9880744931719, 295.16259951636266, 279.55499659403273, 268.1443646170138, 263.8700829757992, 255.4102565589806, 247.47966021438526, 248.63576140128097, 243.01310948035365, 241.98137480171113, 244.99983374378596, 248.80255088046752, 250.88274286714756, 252.1467687905087, 255.05070510924713, 256.6755958562739]\n",
      "RMSE value for k=  18 is: [396.7802744679939, 323.9880744931719, 295.16259951636266, 279.55499659403273, 268.1443646170138, 263.8700829757992, 255.4102565589806, 247.47966021438526, 248.63576140128097, 243.01310948035365, 241.98137480171113, 244.99983374378596, 248.80255088046752, 250.88274286714756, 252.1467687905087, 255.05070510924713, 256.6755958562739, 259.5947501225472]\n",
      "RMSE value for k=  19 is: [396.7802744679939, 323.9880744931719, 295.16259951636266, 279.55499659403273, 268.1443646170138, 263.8700829757992, 255.4102565589806, 247.47966021438526, 248.63576140128097, 243.01310948035365, 241.98137480171113, 244.99983374378596, 248.80255088046752, 250.88274286714756, 252.1467687905087, 255.05070510924713, 256.6755958562739, 259.5947501225472, 259.71101194201776]\n"
     ]
    }
   ],
   "source": [
    "#choosing optimized K-value using for loop\n",
    "val_list=[]\n",
    "for i in range(1,20):\n",
    "    knn=KNeighborsRegressor(n_neighbors=i)\n",
    "    knn.fit(x_train,y_train)\n",
    "    pred=knn.predict(x_test)\n",
    "    err=sqrt(mean_squared_error(y_test,pred))\n",
    "    val_list.append(err)\n",
    "   # print(i,val_list)\n",
    "    print('RMSE value for k= ' , i , 'is:', val_list)"
   ]
  },
  {
   "cell_type": "code",
   "execution_count": 112,
   "metadata": {},
   "outputs": [
    {
     "data": {
      "text/plain": [
       "<matplotlib.axes._subplots.AxesSubplot at 0xe036d48>"
      ]
     },
     "execution_count": 112,
     "metadata": {},
     "output_type": "execute_result"
    },
    {
     "data": {
      "image/png": "[encoded data removed]",
      "text/plain": [
       "<Figure size 432x288 with 1 Axes>"
      ]
     },
     "metadata": {
      "needs_background": "light"
     },
     "output_type": "display_data"
    }
   ],
   "source": [
    "#elbow method to know the K-value\n",
    "curve=pd.DataFrame(val_list)\n",
    "curve.plot()"
   ]
  },
  {
   "cell_type": "code",
   "execution_count": 113,
   "metadata": {},
   "outputs": [
    {
     "name": "stdout",
     "output_type": "stream",
     "text": [
      "255.4102565589806\n"
     ]
    }
   ],
   "source": [
    "#after K value,implemeting regression.    \n",
    "knn=KNeighborsRegressor(n_neighbors=7)\n",
    "knn.fit(x_train,y_train)\n",
    "\n",
    "\n",
    "  "
   ]
  },
  {
   "cell_type": "code",
   "execution_count": 115,
   "metadata": {},
   "outputs": [
    {
     "data": {
      "text/plain": [
       "array([1180.14285714, 1054.85714286,  103.71428571,  298.42857143,\n",
       "         62.14285714, 1240.71428571,   53.57142857,  148.28571429,\n",
       "         46.57142857, 1037.85714286,  179.85714286,   86.        ,\n",
       "        443.71428571, 1047.85714286,  676.14285714,   31.57142857,\n",
       "        638.        ,  423.42857143, 1032.71428571,  867.        ,\n",
       "        275.        ,  614.28571429, 1219.42857143, 1267.42857143,\n",
       "        102.14285714,    7.        ,  382.42857143,   62.14285714,\n",
       "        143.14285714,  104.14285714,  909.71428571,   18.42857143,\n",
       "        701.14285714,  233.42857143,  288.85714286,  346.57142857,\n",
       "        688.57142857,  112.42857143,   68.85714286, 1242.42857143,\n",
       "        959.42857143, 1089.85714286,  258.28571429,  782.42857143,\n",
       "       1092.42857143,   60.71428571,  122.        ,  313.42857143,\n",
       "        851.85714286,  924.        ,  759.28571429,   92.85714286,\n",
       "        699.85714286,  298.14285714,  745.        ,   18.42857143,\n",
       "       1086.14285714,  607.57142857,   62.14285714, 1209.28571429,\n",
       "        450.        ,  699.85714286, 1363.42857143,    5.28571429,\n",
       "         42.71428571, 1115.71428571,  401.28571429, 1074.85714286,\n",
       "        173.        ,  624.71428571, 1048.85714286,  622.71428571,\n",
       "        377.        ,  329.14285714,   70.57142857,  227.57142857,\n",
       "        278.14285714,  708.28571429,  897.71428571, 1157.71428571,\n",
       "         39.28571429,   69.85714286,   76.57142857,  835.        ,\n",
       "        528.71428571,  974.57142857, 1256.85714286,   18.85714286,\n",
       "        162.42857143,   44.14285714,   46.        ,   62.14285714,\n",
       "       1278.71428571,  617.71428571,   77.85714286,  811.71428571,\n",
       "        113.28571429,  504.85714286,  198.14285714,  513.28571429,\n",
       "        622.        ,  584.71428571,  455.        ,  547.        ,\n",
       "        142.42857143,  208.        ,  988.        ,  237.42857143,\n",
       "        644.14285714, 1309.42857143, 1356.71428571,   28.14285714,\n",
       "        251.57142857,  266.        ,  560.28571429,  185.42857143,\n",
       "        337.        ,  477.28571429, 1272.14285714, 1150.        ,\n",
       "         29.71428571,   83.42857143,  155.28571429,  714.57142857,\n",
       "        448.71428571,  137.14285714,  114.14285714,  765.57142857,\n",
       "        624.71428571,  341.71428571,   47.42857143,   45.57142857,\n",
       "         40.28571429, 1104.85714286,  797.        , 1012.        ,\n",
       "       1056.85714286,  393.71428571,   28.14285714,  290.57142857,\n",
       "        528.14285714,  991.71428571,  699.        ,  951.71428571,\n",
       "         89.28571429])"
      ]
     },
     "execution_count": 115,
     "metadata": {},
     "output_type": "execute_result"
    }
   ],
   "source": [
    "pred=knn.predict(x_test)\n",
    "pred"
   ]
  },
  {
   "cell_type": "code",
   "execution_count": null,
   "metadata": {},
   "outputs": [],
   "source": [
    "#finding out mse\n",
    "err=sqrt(mean_squared_error(y_test,pred))\n",
    "print(err)"
   ]
  },
  {
   "cell_type": "code",
   "execution_count": 117,
   "metadata": {},
   "outputs": [
    {
     "data": {
      "text/plain": [
       "0.7468471272235429"
      ]
     },
     "execution_count": 117,
     "metadata": {},
     "output_type": "execute_result"
    }
   ],
   "source": [
    "#To_know the model accuracy\n",
    "r2_score(y_test,pred)"
   ]
  }
 ],
 "metadata": {
  "kernelspec": {
   "display_name": "Python 3",
   "language": "python",
   "name": "python3"
  },
  "language_info": {
   "codemirror_mode": {
    "name": "ipython",
    "version": 3
   },
   "file_extension": ".py",
   "mimetype": "text/x-python",
   "name": "python",
   "nbconvert_exporter": "python",
   "pygments_lexer": "ipython3",
   "version": "3.7.4"
  }
 },
 "nbformat": 4,
 "nbformat_minor": 2
}
